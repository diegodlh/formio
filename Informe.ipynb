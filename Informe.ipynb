{
 "cells": [
  {
   "cell_type": "code",
   "execution_count": 1,
   "metadata": {},
   "outputs": [],
   "source": [
    "def get_labels(column):\n",
    "    df = values.loc[values.columna == column, ['value', 'label']]\n",
    "    return df.set_index('value').to_dict()['label']\n",
    "\n",
    "def where(list_a,list_b,targets,if_false=None):\n",
    "    import collections\n",
    "    if type(list_a) != type(list_b):\n",
    "        raise Exception('list_a y list_b son de tipos diferentes!')\n",
    "    if not isinstance(targets, collections.Sequence) or isinstance(targets, str):\n",
    "        targets = [targets]\n",
    "    targets = set(targets)\n",
    "    list_new = []\n",
    "#     import pdb; pdb.set_trace()\n",
    "    if isinstance(list_a, list):\n",
    "        if len(list_a) != len(list_b):\n",
    "            raise Exception('list_a y list_b tienen distinta longitud!')\n",
    "        for i, value in enumerate(list_a):\n",
    "            if value in targets:\n",
    "                list_new.append(list_b[i])\n",
    "            elif if_false is not None:\n",
    "                list_new.append(if_false)\n",
    "            else:\n",
    "                pass\n",
    "    return list_new\n",
    "\n",
    "def juntar_intervenciones(row):\n",
    "    if not row['sinModificaciones']:\n",
    "        if 'si' in where(row['intervenciones.intervencion'], row['intervenciones.intervencionRealizacion'], 7):\n",
    "            row['intervenciones.intervencion'] += [i + 100 for i in row['intervencionesOtras.intervencionOtra']]\n",
    "            row['intervenciones.intervencionRealizacion'] += row['intervencionesOtras.intervencionOtraRealizacion']\n",
    "            row['intervenciones.intervencionLugar'] += row['intervencionesOtras.intervencionOtraLugar']\n",
    "            row['intervenciones.intervencionAno'] += row['intervencionesOtras.intervencionOtraAno']\n",
    "    return row"
   ]
  },
  {
   "cell_type": "code",
   "execution_count": 2,
   "metadata": {},
   "outputs": [],
   "source": [
    "%run parse.py"
   ]
  },
  {
   "cell_type": "code",
   "execution_count": 3,
   "metadata": {},
   "outputs": [],
   "source": [
    "data = data_json.copy()\n",
    "\n",
    "data = data.apply(juntar_intervenciones, axis=1)\n",
    "data = data.drop(\n",
    "    ['intervencionesOtras.intervencionOtra',\n",
    "     'intervencionesOtras.intervencionOtraRealizacion',\n",
    "     'intervencionesOtras.intervencionOtraLugar',\n",
    "     'intervencionesOtras.intervencionOtraAno'],\n",
    "    axis='columns'\n",
    ")"
   ]
  },
  {
   "cell_type": "code",
   "execution_count": 4,
   "metadata": {},
   "outputs": [],
   "source": [
    "%run values.py\n",
    "values['value'] = values['value'].apply(str2int)"
   ]
  },
  {
   "cell_type": "code",
   "execution_count": 5,
   "metadata": {},
   "outputs": [],
   "source": [
    "import matplotlib.pyplot as plt\n",
    "%matplotlib inline"
   ]
  },
  {
   "cell_type": "markdown",
   "metadata": {},
   "source": [
    "## Número de encuestas válidas:"
   ]
  },
  {
   "cell_type": "code",
   "execution_count": 54,
   "metadata": {},
   "outputs": [
    {
     "data": {
      "text/plain": [
       "280"
      ]
     },
     "execution_count": 54,
     "metadata": {},
     "output_type": "execute_result"
    }
   ],
   "source": [
    "len(data)"
   ]
  },
  {
   "cell_type": "markdown",
   "metadata": {},
   "source": [
    "#### 1. % de personas expulsadas de su hogar según masculinidad /femenidades \n",
    "identidad == 3 (f) / 4,5 (m)  \n",
    "identidad == 8 (otra) ?  \n",
    "identidadSub == f/m  \n",
    "\n",
    "emanciparMotivos == 1|2|5"
   ]
  },
  {
   "cell_type": "code",
   "execution_count": 6,
   "metadata": {},
   "outputs": [
    {
     "name": "stdout",
     "output_type": "stream",
     "text": [
      "porcentaje femenidades expulsadas\n",
      "30.0\n",
      "\n",
      "porcentaje masculinidades expulsadas\n",
      "13.846153846153847\n"
     ]
    }
   ],
   "source": [
    "expulsion = data['emanciparMotivos'].apply(lambda x: len(set([1,2,5]) & set(x)) > 0)\n",
    "masculinidad = data['identidad'].isin([4,5]) | (data['identidadSub'] == 'm')\n",
    "femenidad = data['identidad'].isin([3]) | (data['identidadSub'] == 'f')\n",
    "\n",
    "print('porcentaje femenidades expulsadas')\n",
    "print((femenidad & expulsion).sum() / femenidad.sum() * 100)\n",
    "print()\n",
    "print('porcentaje masculinidades expulsadas')\n",
    "print((masculinidad & expulsion).sum() / masculinidad.sum() * 100)"
   ]
  },
  {
   "cell_type": "markdown",
   "metadata": {},
   "source": [
    "#### 2. Edad a la que fueron expulsadas del hogar según masculinidad o femeneidad\n",
    "emanciparEdad, categórica"
   ]
  },
  {
   "cell_type": "code",
   "execution_count": 7,
   "metadata": {},
   "outputs": [
    {
     "data": {
      "text/plain": [
       "<matplotlib.axes._subplots.AxesSubplot at 0x7fa056595f60>"
      ]
     },
     "execution_count": 7,
     "metadata": {},
     "output_type": "execute_result"
    },
    {
     "data": {
      "image/png": "[encoded data removed]",
      "text/plain": [
       "<matplotlib.figure.Figure at 0x7fa0568945f8>"
      ]
     },
     "metadata": {},
     "output_type": "display_data"
    }
   ],
   "source": [
    "expulsadas_f = data[femenidad & expulsion].emanciparEdad#.replace(get_labels('emanciparEdad'))\n",
    "expulsadas_m = data[masculinidad & expulsion].emanciparEdad#.replace(get_labels('emanciparEdad'))\n",
    "\n",
    "_, axarr = plt.subplots(1, 2, figsize=(10,5))\n",
    "\n",
    "expulsadas_f.value_counts(normalize=True).plot.pie(\n",
    "    title='femenidades (n={})'.format(expulsadas_f.count()), ax=axarr[0])\n",
    "\n",
    "expulsadas_m.value_counts(normalize=True).plot.pie(\n",
    "    title='masculinidades (n={})'.format(expulsadas_m.count()), ax=axarr[1])\n"
   ]
  },
  {
   "cell_type": "markdown",
   "metadata": {},
   "source": [
    "#### 3. Si fue expulsadx del hogar, sacar % del nivel de estudios alcanzado\n",
    "maxEduca, categórica"
   ]
  },
  {
   "cell_type": "code",
   "execution_count": 8,
   "metadata": {},
   "outputs": [
    {
     "name": "stdout",
     "output_type": "stream",
     "text": [
      "No expulsadx refiere a total de encuestas EXCEPTO expulsadxs\n"
     ]
    },
    {
     "data": {
      "image/png": "[encoded data removed]",
      "text/plain": [
       "<matplotlib.figure.Figure at 0x7fa056894128>"
      ]
     },
     "metadata": {},
     "output_type": "display_data"
    },
    {
     "data": {
      "image/png": "[encoded data removed]",
      "text/plain": [
       "<matplotlib.figure.Figure at 0x7fa0544436d8>"
      ]
     },
     "metadata": {},
     "output_type": "display_data"
    }
   ],
   "source": [
    "print('No expulsadx refiere a total de encuestas EXCEPTO expulsadxs')\n",
    "\n",
    "# _, axarr = plt.subplots(1, 2, figsize=(10,5))\n",
    "\n",
    "data[expulsion].maxEduca.replace(get_labels('maxEduca')).value_counts(normalize=True).plot.pie(\n",
    "    title='expulsadx (n={})'.format(expulsion.sum()),\n",
    "    autopct='%.2f',\n",
    "    figsize=(5,5),\n",
    "#     ax=axarr[0]\n",
    ")\n",
    "plt.show()\n",
    "\n",
    "data[~expulsion].maxEduca.replace(get_labels('maxEduca')).value_counts(normalize=True).plot.pie(\n",
    "    title='no explusadx (n={})'.format((~expulsion).sum()),\n",
    "    autopct='%.2f',\n",
    "    figsize=(5,5),\n",
    "#     ax=axarr[1]\n",
    ")\n",
    "plt.show()"
   ]
  },
  {
   "cell_type": "markdown",
   "metadata": {},
   "source": [
    "#### 4. % de encuestadxs que son el principal sosten del hogar y no viven solxs\n",
    "len(integrantes.integrante) > 1\n",
    "integrantes.aportante if integrantes.integrante == 1 (Encuestadx)"
   ]
  },
  {
   "cell_type": "code",
   "execution_count": 9,
   "metadata": {},
   "outputs": [
    {
     "name": "stdout",
     "output_type": "stream",
     "text": [
      "no viven solxs: 204 (72.86%)\n",
      "principal sostén y no viven solxs (% sobre no viven solxs): 63 (30.88%)\n",
      "principal sostén y no viven solxs (% sobre total): 63 (22.50%)\n"
     ]
    }
   ],
   "source": [
    "no_solxs = data['integrantes.integrante'].apply(lambda x: len(set(x)) > 1)\n",
    "enc_ppal = data.apply(lambda x: 'principal' in where(x['integrantes.integrante'], x['integrantes.aportante'], 1), axis=1)\n",
    "\n",
    "print('no viven solxs: {} ({:.2f}%)'.format(no_solxs.sum(), no_solxs.sum()/len(data)*100))\n",
    "print('principal sostén y no viven solxs (% sobre no viven solxs): {} ({:.2f}%)'.format(\n",
    "    (enc_ppal & no_solxs).sum(), (enc_ppal & no_solxs).sum()/no_solxs.sum()*100))\n",
    "print('principal sostén y no viven solxs (% sobre total): {} ({:.2f}%)'.format(\n",
    "    (enc_ppal & no_solxs).sum(), (enc_ppal & no_solxs).sum()/len(data)*100))"
   ]
  },
  {
   "cell_type": "markdown",
   "metadata": {},
   "source": [
    "#### 5. # de personas que fueron expulsadas de su hogar y actualmente mantienen algún vínculo familiar\n",
    "crianzaVinculos 1 | 2 | 4"
   ]
  },
  {
   "cell_type": "code",
   "execution_count": 10,
   "metadata": {},
   "outputs": [
    {
     "name": "stdout",
     "output_type": "stream",
     "text": [
      "expulsadxs y mantienen vínculo (% sobre expulsadxs): 37 (56.06)\n",
      "expulsadxs y mantienen vínculo (% total): 37 (13.21)\n"
     ]
    }
   ],
   "source": [
    "vinculo = data['crianzaVinculos'].apply(lambda x: len(set([1,2,4]) & set(x)) > 0)\n",
    "print('expulsadxs y mantienen vínculo (% sobre expulsadxs): {} ({:.2f})'.format(\n",
    "    (expulsion & vinculo).sum(), (expulsion & vinculo).sum()/expulsion.sum()*100))\n",
    "print('expulsadxs y mantienen vínculo (% total): {} ({:.2f})'.format(\n",
    "    (expulsion & vinculo).sum(), (expulsion & vinculo).sum()/len(data)*100))"
   ]
  },
  {
   "cell_type": "markdown",
   "metadata": {},
   "source": [
    "#### 6. % de personas mayores de 25 años ( 18 años al momento de la aprobación de la ley ) que actualmente están en búsqueda laboral\n",
    "edad >= 25  \n",
    "ingresosBusca == si"
   ]
  },
  {
   "cell_type": "code",
   "execution_count": 42,
   "metadata": {
    "scrolled": true
   },
   "outputs": [
    {
     "name": "stdout",
     "output_type": "stream",
     "text": [
      "mayores 25: 211 (75.36%)\n",
      "mayor 25 y buscando trabajo (% sobre mayores 25): 127 (60.19%)\n",
      "mayor 25 y buscando trabajo (% sobre total): 127 (45.36%)\n"
     ]
    }
   ],
   "source": [
    "mas25 = data['edad'] >= 25\n",
    "busqueda = data['ingresosBusca'] == 'si'\n",
    "print('mayores 25: {} ({:.2f}%)'.format(\n",
    "    mas25.sum(), mas25.sum()/len(data)*100))\n",
    "print('mayor 25 y buscando trabajo (% sobre mayores 25): {} ({:.2f}%)'.format(\n",
    "    (mas25 & busqueda).sum(), (mas25 & busqueda).sum()/mas25.sum()*100))\n",
    "print('mayor 25 y buscando trabajo (% sobre total): {} ({:.2f}%)'.format(\n",
    "    (mas25 & busqueda).sum(), (mas25 & busqueda).sum()/len(data)*100))"
   ]
  },
  {
   "cell_type": "markdown",
   "metadata": {},
   "source": [
    "#### 7. de personas mayores de 40 años (inclusive) que perdieron algún trabjao por su identidad de género\n",
    "edad >= 40  \n",
    "ocupacionPerdio == si"
   ]
  },
  {
   "cell_type": "code",
   "execution_count": 12,
   "metadata": {},
   "outputs": [
    {
     "name": "stdout",
     "output_type": "stream",
     "text": [
      "mayores 40: 83 (0.30%)\n",
      "mayor 40 y perdió trabajo (% sobre mayores 40): 39 (46.99%)\n",
      "mayor 40 y perdió trabajo (% sobre total): 39 (13.93%)\n"
     ]
    }
   ],
   "source": [
    "mas40 = data['edad'] >= 40\n",
    "perdida = data['ocupacionPerdio'] == 'si'\n",
    "print('mayores 40: {} ({:.2f}%)'.format(\n",
    "    mas40.sum(), mas40.sum()/len(data)))\n",
    "print('mayor 40 y perdió trabajo (% sobre mayores 40): {} ({:.2f}%)'.format(\n",
    "    (mas40 & perdida).sum(), (mas40 & perdida).sum()/mas40.sum()*100))\n",
    "print('mayor 40 y perdió trabajo (% sobre total): {} ({:.2f}%)'.format(\n",
    "    (mas40 & perdida).sum(), (mas40 & perdida).sum()/len(data)*100))"
   ]
  },
  {
   "cell_type": "markdown",
   "metadata": {},
   "source": [
    "#### 8. # de personas mayores de 25 años y menor de 39 inclusive que perdieron algún trabjao por su identidad de génerp\n",
    "40 > edad >= 25  \n",
    "ocupacionPerdio == si"
   ]
  },
  {
   "cell_type": "code",
   "execution_count": 13,
   "metadata": {},
   "outputs": [
    {
     "name": "stdout",
     "output_type": "stream",
     "text": [
      "entre 25 y 40: 128 (0.46%)\n",
      "entre 25 y 40 que perdió trabajo (% sobre de entre 25 y 40): 54 (42.19%)\n",
      "entre 25 y 40 que perdió trabajo (% sobre total): 54 (19.29%)\n"
     ]
    }
   ],
   "source": [
    "mas25 = data['edad'].isin(range(25,40))\n",
    "print('entre 25 y 40: {} ({:.2f}%)'.format(\n",
    "    mas25.sum(), mas25.sum()/len(data)))\n",
    "print('entre 25 y 40 que perdió trabajo (% sobre de entre 25 y 40): {} ({:.2f}%)'.format(\n",
    "    (mas25 & perdida).sum(), (mas25 & perdida).sum()/mas25.sum()*100))\n",
    "print('entre 25 y 40 que perdió trabajo (% sobre total): {} ({:.2f}%)'.format(\n",
    "    (mas25 & perdida).sum(), (mas25 & perdida).sum()/len(data)*100))"
   ]
  },
  {
   "cell_type": "markdown",
   "metadata": {},
   "source": [
    "#### 9. # de personas mayores de 16 años y menores de 24 inclusive que perdieron algún trabjao por su identidad de génerp\n",
    "25 > edad >= 16  \n",
    "ocupacionPerdio == si"
   ]
  },
  {
   "cell_type": "code",
   "execution_count": 14,
   "metadata": {},
   "outputs": [
    {
     "name": "stdout",
     "output_type": "stream",
     "text": [
      "entre 16 y 25: 69 (0.25%)\n",
      "entre 16 y 25 que perdió trabajo (% sobre de entre 25 y 40): 16 (23.19%)\n",
      "entre 16 y 25 que perdió trabajo (% sobre total): 16 (5.71%)\n"
     ]
    }
   ],
   "source": [
    "mas16 = data['edad'].isin(range(16,25))\n",
    "print('entre 16 y 25: {} ({:.2f}%)'.format(\n",
    "    mas16.sum(), mas16.sum()/len(data)))\n",
    "print('entre 16 y 25 que perdió trabajo (% sobre de entre 25 y 40): {} ({:.2f}%)'.format(\n",
    "    (mas16 & perdida).sum(), (mas16 & perdida).sum()/mas16.sum()*100))\n",
    "print('entre 16 y 25 que perdió trabajo (% sobre total): {} ({:.2f}%)'.format(\n",
    "    (mas16 & perdida).sum(), (mas16 & perdida).sum()/len(data)*100))"
   ]
  },
  {
   "cell_type": "markdown",
   "metadata": {},
   "source": [
    "#### 10. # de personas que indican haber realizado algún curso de capacitación laboral y que dicen que no les sirvió para conseguir un empleo\n",
    "politicasConoce == si  \n",
    "cursoRealizo == si  \n",
    "cursoSirvio == no"
   ]
  },
  {
   "cell_type": "code",
   "execution_count": 15,
   "metadata": {},
   "outputs": [
    {
     "name": "stdout",
     "output_type": "stream",
     "text": [
      "conoce políticas y realizó cursos: 49 (17.50%)\n",
      "no sirvió curso (% sobre conoce y realizó): 24 (48.98%)\n"
     ]
    }
   ],
   "source": [
    "conoce = data['politicasConoce'] == 'si'\n",
    "realizo = data['cursoRealizo'] == 'si'\n",
    "no_sirvio = data['cursoSirvio'] == 'no'\n",
    "print('conoce políticas y realizó cursos: {} ({:.2f}%)'.format(\n",
    "    (conoce & realizo).sum(), (conoce & realizo).sum()/len(data)*100))\n",
    "print('no sirvió curso (% sobre conoce y realizó): {} ({:.2f}%)'.format(\n",
    "    no_sirvio.sum(), no_sirvio.sum()/(conoce & realizo).sum()*100))"
   ]
  },
  {
   "cell_type": "markdown",
   "metadata": {},
   "source": [
    "#### 11. segun lugar de atención de salud que tipo de dificultades tuvieron\n",
    "5.3\taccesoDificultades, múltiple\n",
    "5.1 consultaEspacios, múltiple"
   ]
  },
  {
   "cell_type": "code",
   "execution_count": null,
   "metadata": {},
   "outputs": [],
   "source": []
  },
  {
   "cell_type": "markdown",
   "metadata": {},
   "source": [
    "#### 12. salud preventiva. % de personas sobre el total\n",
    "5.4 saludConsultas.4 | 5 | 6 | 10 | 11"
   ]
  },
  {
   "cell_type": "code",
   "execution_count": 16,
   "metadata": {},
   "outputs": [
    {
     "name": "stdout",
     "output_type": "stream",
     "text": [
      "Salud preventiva: 258 encuestadxs (92.14)\n"
     ]
    }
   ],
   "source": [
    "prevencion = data.loc[:,\n",
    "    ['saludConsultas.4', 'saludConsultas.5', 'saludConsultas.6', 'saludConsultas.10', 'saludConsultas.11']\n",
    "].apply(lambda x: (x == 'si').any(), axis=1)\n",
    "print('Salud preventiva: {} encuestadxs ({:.2f})'.format(\n",
    "    prevencion.sum(), prevencion.sum()/len(data)*100))"
   ]
  },
  {
   "cell_type": "markdown",
   "metadata": {},
   "source": [
    "#### 13. % masculinidades mayores de 30 años que se hicieron examenes genitomamarios\n",
    "edad >= 30  \n",
    "saludConsultas.4"
   ]
  },
  {
   "cell_type": "code",
   "execution_count": 17,
   "metadata": {},
   "outputs": [
    {
     "name": "stdout",
     "output_type": "stream",
     "text": [
      "Masculinidades mayores de 30 años: 22 encuestadxs (7.857143%)\n",
      "Exámenes genitomamarios sobre masculinidades mayores de 30: 68.18%\n"
     ]
    }
   ],
   "source": [
    "mas30_m = masculinidad & (data['edad'] >= 30)\n",
    "genitom = data['saludConsultas.4'] == 'si'\n",
    "print('Masculinidades mayores de 30 años: {} encuestadxs ({:2f}%)'.format(\n",
    "    mas30_m.sum(), mas30_m.sum()/len(data)*100))\n",
    "print('Exámenes genitomamarios sobre masculinidades mayores de 30: {:.2f}%'.format(\n",
    "    (mas30_m & genitom).sum()/mas30_m.sum()*100))"
   ]
  },
  {
   "cell_type": "markdown",
   "metadata": {},
   "source": [
    "#### 14. % femeneidades mayores de 30 años que se hicieron examenes de prostata\n",
    "saludConsultas.5"
   ]
  },
  {
   "cell_type": "code",
   "execution_count": 18,
   "metadata": {},
   "outputs": [
    {
     "name": "stdout",
     "output_type": "stream",
     "text": [
      "Femenidades mayores de 30 años: 91 encuestadxs (32.500000%)\n",
      "Exámenes de próstata sobre femenidades mayores de 30: 9.89%\n"
     ]
    }
   ],
   "source": [
    "mas30_f = femenidad & (data['edad'] >= 30)\n",
    "prostata = data['saludConsultas.5'] == 'si'\n",
    "print('Femenidades mayores de 30 años: {} encuestadxs ({:2f}%)'.format(\n",
    "    mas30_f.sum(), mas30_f.sum()/len(data)*100))\n",
    "print('Exámenes de próstata sobre femenidades mayores de 30: {:.2f}%'.format(\n",
    "    (mas30_f & prostata).sum()/mas30_f.sum()*100))"
   ]
  },
  {
   "cell_type": "markdown",
   "metadata": {},
   "source": [
    "#### 15. % que se realizó intervenciones en hospitales públicos antes y despues de la ley\n",
    "intervenciones.intervencionLugar == 3 | intervencionesOtras.intervencionOtraLugar == 3  \n",
    "intervenciones.intervencionAno, intervencionesOtras.intervencionOtraAno (2012)  \n",
    "\n",
    "Se puede entender como porcentaje de encuestades que se realizó al menos una intervención en un hospital público, desagregado por año de realización (antes de 2012, después de 2012, y sin especificar el año).  \n",
    "Como las personas podrían cambiar cuánto intervienen sus cuerpos en función del año, me parece mejor informar porcentaje de intervenciones (sobre total de intervenciones antes y después de 2012) que se realizaron en un hospital público.  \n",
    "Primero, divido el dataset en dos (en ambos casos ignoro las intervenciones sin fecha de realización): por un lado, descarto las intervenciones realizadas en 2012 o después (pre2012); por otro lado descarto las intervenciones realizadas antes de 2012 (post2012).  \n",
    "Luego, para cada dataset, calculo porcentaje de encuestadxs que realizaron intervenciones en hospital público, sobre el total de encuestadxs que realizaron algún tipo de intervención."
   ]
  },
  {
   "cell_type": "code",
   "execution_count": 19,
   "metadata": {},
   "outputs": [
    {
     "name": "stdout",
     "output_type": "stream",
     "text": [
      "Encuestades con intervenciones pre 2012: 69 (24.64%)\n",
      "Encuestades con intervenciones post 2012: 116 (41.43%)\n",
      "Encuestades con intervenciones en hospital público pre 2012 (% sobre encuestades con intervenciones pre 2012):     20 (28.99%)\n",
      "Encuestades con intervenciones en hospital público post 2012 (% sobre encuestades con intervenciones post 2012):     38 (32.76%)\n"
     ]
    }
   ],
   "source": [
    "def binarizar(valor, umbral, cat_menor, cat_mayor):\n",
    "    def valor2cat(elemento):\n",
    "        try:\n",
    "            elemento = int(elemento)\n",
    "            if elemento != 99:\n",
    "                elemento = cat_menor if elemento < umbral else cat_mayor\n",
    "        except:\n",
    "            pass\n",
    "        return elemento\n",
    "\n",
    "    if isinstance(valor, list):\n",
    "        valor_new = []\n",
    "        for elemento in valor:\n",
    "            valor_new.append(valor2cat(elemento))\n",
    "    else:\n",
    "        valor_new = valor2cat(valor)\n",
    "    return valor_new\n",
    "\n",
    "data['intervenciones.intervencionAno'] = data['intervenciones.intervencionAno'].apply(\n",
    "    lambda x: binarizar(x, 2012, 'pre2012', 'post2012')\n",
    ")\n",
    "\n",
    "data_pre = data.copy()\n",
    "data_post = data.copy()\n",
    "for columna in ['intervenciones.intervencion' + sufijo for sufijo in ['', 'Realizacion', 'Lugar', 'Ano']]:\n",
    "    data_pre[columna] = data_pre.apply(\n",
    "        lambda x: where(x['intervenciones.intervencionAno'], x[columna], 'pre2012'), axis=1\n",
    "    )\n",
    "    data_post[columna] = data_post.apply(\n",
    "        lambda x: where(x['intervenciones.intervencionAno'], x[columna], 'post2012'), axis=1\n",
    "    )\n",
    "\n",
    "intervencion_pre = data_pre['intervenciones.intervencionLugar'].apply(lambda x: len(x) > 0 if isinstance(x, list) else False)\n",
    "intervencion_post = data_post['intervenciones.intervencionLugar'].apply(lambda x: len(x) > 0 if isinstance(x, list) else False)\n",
    "publico_pre = data_pre.loc[intervencion_pre, 'intervenciones.intervencionLugar'].apply(lambda x: 1 in x)\n",
    "publico_post = data_post.loc[intervencion_post, 'intervenciones.intervencionLugar'].apply(lambda x: 1 in x)\n",
    "\n",
    "print('Encuestades con intervenciones pre 2012: {} ({:.2f}%)'.format(\n",
    "    intervencion_pre.sum(), intervencion_pre.sum()/len(data)*100)\n",
    ")\n",
    "print('Encuestades con intervenciones post 2012: {} ({:.2f}%)'.format(\n",
    "    intervencion_post.sum(), intervencion_post.sum()/len(data)*100)\n",
    ")\n",
    "\n",
    "print(\n",
    "    'Encuestades con intervenciones en hospital público pre 2012 (% sobre encuestades con intervenciones pre 2012): \\\n",
    "    {} ({:.2f}%)'.format(publico_pre.sum(), publico_pre.sum()/intervencion_pre.sum()*100)\n",
    ")\n",
    "print(\n",
    "    'Encuestades con intervenciones en hospital público post 2012 (% sobre encuestades con intervenciones post 2012): \\\n",
    "    {} ({:.2f}%)'.format(publico_post.sum(), publico_post.sum()/intervencion_post.sum()*100)\n",
    ")"
   ]
  },
  {
   "cell_type": "markdown",
   "metadata": {},
   "source": [
    "#### 16. # de personas que se hicieron intervenciones en domicilio particulares posterior a la ley (2012)\n",
    "intervenciones.intervencionLugar == 2"
   ]
  },
  {
   "cell_type": "code",
   "execution_count": 20,
   "metadata": {},
   "outputs": [
    {
     "name": "stdout",
     "output_type": "stream",
     "text": [
      "Encuestades con intervenciones domiciliarias post 2012 (% sobre intervenciones post 2012): 11 (9.48%)\n"
     ]
    }
   ],
   "source": [
    "domicilio_post = data_post.loc[intervencion_post, 'intervenciones.intervencionLugar'].apply(lambda x: 2 in x)\n",
    "print(\n",
    "    'Encuestades con intervenciones domiciliarias post 2012 (% sobre intervenciones post 2012): ' +\n",
    "    '{} ({:.2f}%)'.format(domicilio_post.sum(), domicilio_post.sum()/intervencion_post.sum()*100)\n",
    ")"
   ]
  },
  {
   "cell_type": "markdown",
   "metadata": {},
   "source": [
    "#### 17. % femeneidades que se inyectaron siliconas en domiclio particilar posterior al 2012\n",
    "intervenciones.intervencion == 1"
   ]
  },
  {
   "cell_type": "code",
   "execution_count": 21,
   "metadata": {},
   "outputs": [
    {
     "name": "stdout",
     "output_type": "stream",
     "text": [
      "Encuestades con inyección de siliconas en domicilio post 2012 (% sobre total femenidades): 6 (4.62%)\n"
     ]
    }
   ],
   "source": [
    "siliconas_post = data_post.loc[intervencion_post, 'intervenciones.intervencion'].apply(lambda x: 1 in x)\n",
    "print(\n",
    "    'Encuestades con inyección de siliconas en domicilio post 2012 (% sobre total femenidades): ' +\n",
    "    '{} ({:.2f}%)'.format(\n",
    "        (siliconas_post & domicilio_post & femenidad).sum(),\n",
    "        (siliconas_post & domicilio_post & femenidad).sum() / femenidad.sum() * 100\n",
    "    )\n",
    ")"
   ]
  },
  {
   "cell_type": "markdown",
   "metadata": {},
   "source": [
    "#### 18-19. % de femeneidades que se inyectaron siliconas y SALIERON DE SUS CASAS  antes/después de los 18 años\n",
    "Interpreto que se busca comparar el porcentaje de femenidades con inyección de siliconas según hayan salido de sus casas (i) antes, o (ii) después de los 18 años."
   ]
  },
  {
   "cell_type": "code",
   "execution_count": 22,
   "metadata": {},
   "outputs": [
    {
     "name": "stdout",
     "output_type": "stream",
     "text": [
      "Femenidades que salieron de sus casas antes de los 18 (% sobre total femenidades): 49 (37.69%)\n",
      "Femenidades que salieron de sus casas después de los 18 (% sobre total femenidades): 34 (26.15%)\n",
      "Inyección de siliconas (% sobre femenidades que salieron antes de los 18): 30 (61.22%)\n",
      "Inyección de siliconas (% sobre femenidades que salieron después de los 18): 13 (38.24%)\n"
     ]
    }
   ],
   "source": [
    "siliconas = data.apply(\n",
    "    lambda x: 1 in where(x['intervenciones.intervencionRealizacion'], x['intervenciones.intervencion'], 'si'),\n",
    "    axis=1\n",
    ")\n",
    "emancipacion = data['emanciparEdad'] != 'No corresponde'\n",
    "emancipacion_pre18 = data['emanciparEdad'].isin([0,7,13])\n",
    "emancipacion_post18 = data['emanciparEdad'].isin([18,26,35])\n",
    "print(\n",
    "    'Femenidades que salieron de sus casas antes de los 18 (% sobre total femenidades): ' +\n",
    "    '{} ({:.2f}%)'.format(\n",
    "        (femenidad & emancipacion_pre18).sum(),\n",
    "        (femenidad & emancipacion_pre18).sum()/femenidad.sum()*100\n",
    "    )\n",
    ")\n",
    "print(\n",
    "    'Femenidades que salieron de sus casas después de los 18 (% sobre total femenidades): ' +\n",
    "    '{} ({:.2f}%)'.format(\n",
    "        (femenidad & emancipacion_post18).sum(),\n",
    "        (femenidad & emancipacion_post18).sum()/femenidad.sum()*100\n",
    "    )\n",
    ")\n",
    "\n",
    "print(\n",
    "    'Inyección de siliconas (% sobre femenidades que salieron antes de los 18): ' +\n",
    "    '{} ({:.2f}%)'.format(\n",
    "        (siliconas & emancipacion_pre18 & femenidad).sum(),\n",
    "        (siliconas & emancipacion_pre18 & femenidad).sum()/(emancipacion_pre18 & femenidad).sum()*100\n",
    "    )\n",
    ")\n",
    "print(\n",
    "    'Inyección de siliconas (% sobre femenidades que salieron después de los 18): ' +\n",
    "    '{} ({:.2f}%)'.format(\n",
    "        (siliconas & emancipacion_post18 & femenidad).sum(),\n",
    "        (siliconas & emancipacion_post18 & femenidad).sum()/(emancipacion_post18 & femenidad).sum()*100\n",
    "    )\n",
    ")"
   ]
  },
  {
   "cell_type": "markdown",
   "metadata": {},
   "source": [
    "#### 20. % de femeneidades/travestis que fueron expulsadas de su entorno de origen y ejercen prostitucion/trabajo sexual\n",
    "femenidad | identidad == 1  \n",
    "emanciparMotivos in [1, 2, 5, 6]  \n",
    "remuneradas.remuneradaNombre == 15 | 51"
   ]
  },
  {
   "cell_type": "code",
   "execution_count": 23,
   "metadata": {},
   "outputs": [
    {
     "name": "stdout",
     "output_type": "stream",
     "text": [
      "Femenidades/travestis expulsadas de su entorno de origen (% sobre total femenidades/travestis): 46 (30.07%)\n",
      "Ejercen prostitución (% sobre total femenidades/travestis expulsadas): 25 (54.35%)\n",
      "Ejercen prostitución (% sobre total femenidades/travestis -expulsadas o no): 62 (40.52%)\n"
     ]
    }
   ],
   "source": [
    "entorno_expulsivo = data['emanciparMotivos'].apply(lambda x: len(set([1,2,5,6]) & set(x)) > 0)\n",
    "travesti = data['identidad'] == 1\n",
    "prostitucion = data['remuneradas.remuneradaNombre'].apply(lambda x: len(set(x) & set([15, 51])) > 0)\n",
    "print(\n",
    "    'Femenidades/travestis expulsadas de su entorno de origen (% sobre total femenidades/travestis): ' +\n",
    "    '{} ({:.2f}%)'.format(\n",
    "        ((femenidad | travesti) & entorno_expulsivo).sum(),\n",
    "        ((femenidad | travesti) & entorno_expulsivo).sum()/(femenidad | travesti).sum()*100,\n",
    "    )\n",
    ")\n",
    "print(\n",
    "    'Ejercen prostitución (% sobre total femenidades/travestis expulsadas): ' +\n",
    "    '{} ({:.2f}%)'.format(\n",
    "        (prostitucion & (femenidad | travesti) & entorno_expulsivo).sum(),\n",
    "        (prostitucion & (femenidad | travesti) & entorno_expulsivo).sum()/((femenidad | travesti) & entorno_expulsivo).sum()*100,\n",
    "    )\n",
    ")\n",
    "print(\n",
    "    'Ejercen prostitución (% sobre total femenidades/travestis -expulsadas o no): ' +\n",
    "    '{} ({:.2f}%)'.format(\n",
    "        (prostitucion & (femenidad | travesti)).sum(),\n",
    "        (prostitucion & (femenidad | travesti)).sum()/((femenidad | travesti)).sum()*100,\n",
    "    )\n",
    ")"
   ]
  },
  {
   "cell_type": "markdown",
   "metadata": {},
   "source": [
    "#### 21. % femeneidades/travestis que ejercen prostitucion/trabajo sexual y se inyectaron siliconas"
   ]
  },
  {
   "cell_type": "code",
   "execution_count": 24,
   "metadata": {},
   "outputs": [
    {
     "name": "stdout",
     "output_type": "stream",
     "text": [
      "Femenidades/travestis que ejercen prostitución: 62\n",
      "Inyección siliconas (% sobre femenidades/travestis que ejercen prostitución): 36 (58.06%)\n",
      "Inyección siliconas (% sobre femenidades/travestis -ejerzan o no prostitución): 77 (50.33%)\n"
     ]
    }
   ],
   "source": [
    "print('Femenidades/travestis que ejercen prostitución: {}'.format((prostitucion & (femenidad | travesti)).sum()))\n",
    "print(\n",
    "    'Inyección siliconas (% sobre femenidades/travestis que ejercen prostitución): ' +\n",
    "    '{} ({:.2f}%)'.format(\n",
    "        (siliconas & prostitucion & (femenidad | travesti)).sum(),\n",
    "        (siliconas & prostitucion & (femenidad | travesti)).sum()/(prostitucion & (femenidad | travesti)).sum()*100\n",
    "    )\n",
    ")\n",
    "print(\n",
    "    'Inyección siliconas (% sobre femenidades/travestis -ejerzan o no prostitución): ' +\n",
    "    '{} ({:.2f}%)'.format(\n",
    "        (siliconas & (femenidad | travesti)).sum(),\n",
    "        (siliconas & (femenidad | travesti)).sum()/(femenidad | travesti).sum()*100\n",
    "    )\n",
    ")"
   ]
  },
  {
   "attachments": {},
   "cell_type": "markdown",
   "metadata": {},
   "source": [
    "#### 22. # de personas que dicen no haber experimentado situaciones de violencia pero luego en el desglose se contradicen\n",
    "violenciaExperimento == no  \n",
    "situacionesNunca == False"
   ]
  },
  {
   "cell_type": "code",
   "execution_count": 27,
   "metadata": {},
   "outputs": [
    {
     "name": "stdout",
     "output_type": "stream",
     "text": [
      "Dicen no haber experimentado situaciones violentas: 44\n",
      "Se contradicen (% sobre dicen no haber experimentado situaciones violentas): 23 (52.27%)\n"
     ]
    }
   ],
   "source": [
    "print(\n",
    "    'Dicen no haber experimentado situaciones violentas: {}'.format(\n",
    "        (data['violenciaExperimento'] == 'no').sum()\n",
    "    )\n",
    ")\n",
    "print(\n",
    "    'Se contradicen (% sobre dicen no haber experimentado situaciones violentas): {} ({:.2f}%)'.format(\n",
    "        ((data['violenciaExperimento'] == 'no') & ~data['situacionesNunca']).sum(),\n",
    "        ((data['violenciaExperimento'] == 'no') & ~data['situacionesNunca']).sum()/(data['violenciaExperimento'] == 'no').sum()*100,\n",
    "    )\n",
    ")"
   ]
  },
  {
   "attachments": {},
   "cell_type": "markdown",
   "metadata": {},
   "source": [
    "#### 23. % de personas que hicieron la denuncia en determinados lugares y fueron mal atendidas\n",
    "denunciaLugares == 2|3|4 (Comisaría|Comisaría de la Mujer|Fiscalía)  \n",
    "denunciaAtencion == 3|4|5"
   ]
  },
  {
   "cell_type": "code",
   "execution_count": 39,
   "metadata": {},
   "outputs": [
    {
     "name": "stdout",
     "output_type": "stream",
     "text": [
      "Hizo denuncia en comisaría, comisaría de la mujer y/o fiscalía: 59\n",
      "Hizo denuncia SÓLO en comisaría, comisaría de la mujer y/o fiscalía: 55\n",
      "Mal atendide (% sobre hizo denuncia en comisaría, etc): 18 (32.73%)\n"
     ]
    }
   ],
   "source": [
    "denuncia_seleccion = data['denunciaLugares'].apply(lambda x: len(set([2,3,4]) & set(x)) > 0)\n",
    "denuncia_resto = data['denunciaLugares'].apply(lambda x: len([lugar for lugar in x if lugar not in [2,3,4]]) > 0)\n",
    "denuncia_solo_seleccion = denuncia_seleccion & ~denuncia_resto\n",
    "print('Hizo denuncia en comisaría, comisaría de la mujer y/o fiscalía: {}'.format(denuncia_seleccion.sum()))\n",
    "print('Hizo denuncia SÓLO en comisaría, comisaría de la mujer y/o fiscalía: {}'.format(denuncia_solo_seleccion.sum()))\n",
    "mala_atencion = data['denunciaAtencion'].isin([3,4,5])\n",
    "print(\n",
    "    'Mal atendide (% sobre hizo denuncia en comisaría, etc): {} ({:.2f}%)'.format(\n",
    "        (mala_atencion & denuncia_solo_seleccion).sum(),\n",
    "        (mala_atencion & denuncia_solo_seleccion).sum()/denuncia_solo_seleccion.sum()*100\n",
    "    )\n",
    ")"
   ]
  },
  {
   "cell_type": "markdown",
   "metadata": {},
   "source": [
    "#### 24. % de personas de 25 años y más que sufrieron abuso policial sobre el total\n",
    "mas25  \n",
    "policialActos.[1-10] == si"
   ]
  },
  {
   "cell_type": "code",
   "execution_count": 52,
   "metadata": {},
   "outputs": [
    {
     "name": "stdout",
     "output_type": "stream",
     "text": [
      "Personas de 25 años o más: 211\n",
      "25 años o más y abuso policial (% sobre 25 años o más): 163 (77.25%)\n",
      "25 años o más y abuso policial (% sobre total encuestades): 163 (58.21%)\n"
     ]
    }
   ],
   "source": [
    "abuso_policial = data.apply(lambda x: 'si' in x[[col for col in data.columns if 'policialActos.' in col]].values, axis=1)\n",
    "print('Personas de 25 años o más: {}'.format(mas25.sum()))\n",
    "print(\n",
    "    '25 años o más y abuso policial (% sobre 25 años o más): {} ({:.2f}%)'.format(\n",
    "        (mas25 & abuso_policial).sum(),\n",
    "        (mas25 & abuso_policial).sum()/mas25.sum()*100,\n",
    "    )\n",
    ")\n",
    "print(\n",
    "    '25 años o más y abuso policial (% sobre total encuestades): {} ({:.2f}%)'.format(\n",
    "        (mas25 & abuso_policial).sum(),\n",
    "        (mas25 & abuso_policial).sum()/len(data)*100,\n",
    "    )\n",
    ")"
   ]
  },
  {
   "cell_type": "markdown",
   "metadata": {},
   "source": [
    "#### 25. % de personas menores de 25 años que sufrieron abuso policial sobre el total\n",
    "edad < 25, no es lo mismo que NOT edad >= 25 (porque algunes podrían no haber respondido)"
   ]
  },
  {
   "cell_type": "code",
   "execution_count": 53,
   "metadata": {},
   "outputs": [
    {
     "name": "stdout",
     "output_type": "stream",
     "text": [
      "Personas menores de 25 años: 69\n",
      "Menores de 25 y abuso policial (% sobre meores de 25): 33 (47.83%)\n",
      "Menores de 25 y abuso policial (% sobre total encuestades): 33 (11.79%)\n"
     ]
    }
   ],
   "source": [
    "menos25 = data['edad'] < 25\n",
    "print('Personas menores de 25 años: {}'.format(menos25.sum()))\n",
    "print(\n",
    "    'Menores de 25 y abuso policial (% sobre meores de 25): {} ({:.2f}%)'.format(\n",
    "        (menos25 & abuso_policial).sum(),\n",
    "        (menos25 & abuso_policial).sum()/menos25.sum()*100,\n",
    "    )\n",
    ")\n",
    "print(\n",
    "    'Menores de 25 y abuso policial (% sobre total encuestades): {} ({:.2f}%)'.format(\n",
    "        (menos25 & abuso_policial).sum(),\n",
    "        (menos25 & abuso_policial).sum()/len(data)*100,\n",
    "    )\n",
    ")"
   ]
  },
  {
   "cell_type": "markdown",
   "metadata": {},
   "source": [
    "#### 26. % de femeneidades que ejercen el trabajo sexual/ prostitución y hayan sufrido violencia con fuerzas de seguridad\n"
   ]
  }
 ],
 "metadata": {
  "kernelspec": {
   "display_name": "Python 3",
   "language": "python",
   "name": "python3"
  },
  "language_info": {
   "codemirror_mode": {
    "name": "ipython",
    "version": 3
   },
   "file_extension": ".py",
   "mimetype": "text/x-python",
   "name": "python",
   "nbconvert_exporter": "python",
   "pygments_lexer": "ipython3",
   "version": "3.6.8"
  }
 },
 "nbformat": 4,
 "nbformat_minor": 2
}
