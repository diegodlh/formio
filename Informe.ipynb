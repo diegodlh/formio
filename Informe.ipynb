{
 "cells": [
  {
   "cell_type": "code",
   "execution_count": 30,
   "metadata": {
    "collapsed": true
   },
   "outputs": [],
   "source": [
    "def get_labels(column):\n",
    "    df = values.loc[values.columna == column, ['value', 'label']]\n",
    "    return df.set_index('value').to_dict()['label']\n",
    "\n",
    "def where(list_a,list_b,targets,if_false=None):\n",
    "    import collections\n",
    "    if type(list_a) != type(list_b):\n",
    "        raise Exception('list_a y list_b son de tipos diferentes!')\n",
    "    if not isinstance(targets, collections.Sequence) or isinstance(targets, str):\n",
    "        targets = [targets]\n",
    "    targets = set(targets)\n",
    "    list_new = []\n",
    "#     import pdb; pdb.set_trace()\n",
    "    if isinstance(list_a, list):\n",
    "        if len(list_a) != len(list_b):\n",
    "            raise Exception('list_a y list_b tienen distinta longitud!')\n",
    "        for i, value in enumerate(list_a):\n",
    "            if value in targets:\n",
    "                list_new.append(list_b[i])\n",
    "            elif if_false is not None:\n",
    "                list_new.append(if_false)\n",
    "            else:\n",
    "                pass\n",
    "    return list_new\n",
    "\n",
    "def juntar_intervenciones(row):\n",
    "    if not row['sinModificaciones']:\n",
    "        if 'si' in where(row['intervenciones.intervencion'], row['intervenciones.intervencionRealizacion'], 7):\n",
    "            row['intervenciones.intervencion'] += [i + 100 for i in row['intervencionesOtras.intervencionOtra']]\n",
    "            row['intervenciones.intervencionRealizacion'] += row['intervencionesOtras.intervencionOtraRealizacion']\n",
    "            row['intervenciones.intervencionLugar'] += row['intervencionesOtras.intervencionOtraLugar']\n",
    "            row['intervenciones.intervencionAno'] += row['intervencionesOtras.intervencionOtraAno']\n",
    "    return row"
   ]
  },
  {
   "cell_type": "code",
   "execution_count": 2,
   "metadata": {},
   "outputs": [
    {
     "name": "stdout",
     "output_type": "stream",
     "text": [
      "column in encuesta not in csv\n",
      "['consultaEspacios.consultaEspacioCual_3', 'consultaEspacios.consultaEspacioCual_7', 'draft', 'enviar']\n",
      "columns in json not in csv:\n",
      "['consultaEspacios.consultaEspacioCual_3', 'consultaEspacios.consultaEspacioCual_7', 'draft', 'enviar']\n",
      "columns in json[enviar] not in csv:\n",
      "['consultaEspacios.consultaEspacioCual_3', 'consultaEspacios.consultaEspacioCual_7', 'draft', 'enviar']\n",
      "columns in csv not in json:\n",
      "['_id', 'created', 'modified', 'consultaEspacios.consultaEspacioCual']\n",
      "numencuesta 261 (ele), participaProgramaCual: código 215 inválido!\n"
     ]
    }
   ],
   "source": [
    "%run parse.py"
   ]
  },
  {
   "cell_type": "code",
   "execution_count": 3,
   "metadata": {
    "collapsed": true
   },
   "outputs": [],
   "source": [
    "data = data_json.copy()\n",
    "\n",
    "data = data.apply(juntar_intervenciones, axis=1)\n",
    "data = data.drop(\n",
    "    ['intervencionesOtras.intervencionOtra',\n",
    "     'intervencionesOtras.intervencionOtraRealizacion',\n",
    "     'intervencionesOtras.intervencionOtraLugar',\n",
    "     'intervencionesOtras.intervencionOtraAno'],\n",
    "    axis='columns'\n",
    ")"
   ]
  },
  {
   "cell_type": "code",
   "execution_count": 4,
   "metadata": {},
   "outputs": [],
   "source": [
    "%run values.py\n",
    "values['value'] = values['value'].apply(str2int)"
   ]
  },
  {
   "cell_type": "code",
   "execution_count": 5,
   "metadata": {
    "collapsed": true
   },
   "outputs": [],
   "source": [
    "import matplotlib.pyplot as plt\n",
    "%matplotlib inline"
   ]
  },
  {
   "attachments": {},
   "cell_type": "markdown",
   "metadata": {},
   "source": [
    "#### 1. % de personas expulsadas de su hogar según masculinidad /femenidades \n",
    "identidad == 3 (f) / 4,5 (m)  \n",
    "identidad == 8 (otra) ?  \n",
    "identidadSub == f/m  \n",
    "\n",
    "emanciparMotivos == 1|2|5"
   ]
  },
  {
   "cell_type": "code",
   "execution_count": 6,
   "metadata": {},
   "outputs": [
    {
     "name": "stdout",
     "output_type": "stream",
     "text": [
      "porcentaje femenidades expulsadas\n",
      "31.30434782608696\n",
      "\n",
      "porcentaje masculinidades expulsadas\n",
      "14.285714285714285\n"
     ]
    }
   ],
   "source": [
    "expulsion = data['emanciparMotivos'].apply(lambda x: len(set([1,2,5]) & set(x)) > 0)\n",
    "masculinidad = data['identidad'].isin([4,5]) | (data['identidadSub'] == 'm')\n",
    "femenidad = data['identidad'].isin([3]) | (data['identidadSub'] == 'f')\n",
    "\n",
    "print('porcentaje femenidades expulsadas')\n",
    "print((femenidad & expulsion).sum() / femenidad.sum() * 100)\n",
    "print()\n",
    "print('porcentaje masculinidades expulsadas')\n",
    "print((masculinidad & expulsion).sum() / masculinidad.sum() * 100)"
   ]
  },
  {
   "cell_type": "markdown",
   "metadata": {},
   "source": [
    "#### 2. Edad a la que fueron expulsadas del hogar según masculinidad o femeneidad\n",
    "emanciparEdad, categórica"
   ]
  },
  {
   "cell_type": "code",
   "execution_count": 7,
   "metadata": {},
   "outputs": [
    {
     "data": {
      "text/plain": [
       "<matplotlib.axes._subplots.AxesSubplot at 0x7f4f6e7ae7b8>"
      ]
     },
     "execution_count": 7,
     "metadata": {},
     "output_type": "execute_result"
    },
    {
     "data": {
      "image/png": "[encoded data removed]",
      "text/plain": [
       "<matplotlib.figure.Figure at 0x7f4f6ea9e9e8>"
      ]
     },
     "metadata": {},
     "output_type": "display_data"
    }
   ],
   "source": [
    "expulsadas_f = data[femenidad & expulsion].emanciparEdad#.replace(get_labels('emanciparEdad'))\n",
    "expulsadas_m = data[masculinidad & expulsion].emanciparEdad#.replace(get_labels('emanciparEdad'))\n",
    "\n",
    "_, axarr = plt.subplots(1, 2, figsize=(10,5))\n",
    "\n",
    "expulsadas_f.value_counts(normalize=True).plot.pie(\n",
    "    title='femenidades (n={})'.format(expulsadas_f.count()), ax=axarr[0])\n",
    "\n",
    "expulsadas_m.value_counts(normalize=True).plot.pie(\n",
    "    title='masculinidades (n={})'.format(expulsadas_m.count()), ax=axarr[1])\n"
   ]
  },
  {
   "attachments": {},
   "cell_type": "markdown",
   "metadata": {},
   "source": [
    "#### 3. Si fue expulsadx del hogar, sacar % del nivel de estudios alcanzado\n",
    "maxEduca, categórica"
   ]
  },
  {
   "cell_type": "code",
   "execution_count": 8,
   "metadata": {},
   "outputs": [
    {
     "name": "stdout",
     "output_type": "stream",
     "text": [
      "No expulsadx refiere a total de encuestas EXCEPTO expulsadxs\n"
     ]
    },
    {
     "data": {
      "image/png": "[encoded data removed]",
      "text/plain": [
       "<matplotlib.figure.Figure at 0x7f4f6e770160>"
      ]
     },
     "metadata": {},
     "output_type": "display_data"
    },
    {
     "data": {
      "image/png": "[encoded data removed]",
      "text/plain": [
       "<matplotlib.figure.Figure at 0x7f4f6c46ada0>"
      ]
     },
     "metadata": {},
     "output_type": "display_data"
    }
   ],
   "source": [
    "print('No expulsadx refiere a total de encuestas EXCEPTO expulsadxs')\n",
    "\n",
    "# _, axarr = plt.subplots(1, 2, figsize=(10,5))\n",
    "\n",
    "data[expulsion].maxEduca.replace(get_labels('maxEduca')).value_counts(normalize=True).plot.pie(\n",
    "    title='expulsadx (n={})'.format(expulsion.sum()),\n",
    "    autopct='%.2f',\n",
    "    figsize=(5,5),\n",
    "#     ax=axarr[0]\n",
    ")\n",
    "plt.show()\n",
    "\n",
    "data[~expulsion].maxEduca.replace(get_labels('maxEduca')).value_counts(normalize=True).plot.pie(\n",
    "    title='no explusadx (n={})'.format((~expulsion).sum()),\n",
    "    autopct='%.2f',\n",
    "    figsize=(5,5),\n",
    "#     ax=axarr[1]\n",
    ")\n",
    "plt.show()"
   ]
  },
  {
   "attachments": {},
   "cell_type": "markdown",
   "metadata": {},
   "source": [
    "#### 4. % de encuestadxs que son el principal sosten del hogar y no viven solxs\n",
    "len(integrantes.integrante) > 1\n",
    "integrantes.aportante if integrantes.integrante == 1 (Encuestadx)"
   ]
  },
  {
   "cell_type": "code",
   "execution_count": 74,
   "metadata": {},
   "outputs": [
    {
     "name": "stdout",
     "output_type": "stream",
     "text": [
      "no viven solxs: 189 (73.54%)\n",
      "principal sostén y no viven solxs (% sobre no viven solxs): 55 (29.10%)\n",
      "principal sostén y no viven solxs (% sobre total): 55 (21.40%)\n"
     ]
    }
   ],
   "source": [
    "no_solxs = data['integrantes.integrante'].apply(lambda x: len(set(x)) > 1)\n",
    "enc_ppal = data.apply(lambda x: 'principal' in where(x['integrantes.integrante'], x['integrantes.aportante'], 1), axis=1)\n",
    "\n",
    "print('no viven solxs: {} ({:.2f}%)'.format(no_solxs.sum(), no_solxs.sum()/len(data)*100))\n",
    "print('principal sostén y no viven solxs (% sobre no viven solxs): {} ({:.2f}%)'.format(\n",
    "    (enc_ppal & no_solxs).sum(), (enc_ppal & no_solxs).sum()/no_solxs.sum()*100))\n",
    "print('principal sostén y no viven solxs (% sobre total): {} ({:.2f}%)'.format(\n",
    "    (enc_ppal & no_solxs).sum(), (enc_ppal & no_solxs).sum()/len(data)*100))"
   ]
  },
  {
   "attachments": {},
   "cell_type": "markdown",
   "metadata": {},
   "source": [
    "#### 5. # de personas que fueron expulsadas de su hogar y actualmente mantienen algún vínculo familiar\n",
    "crianzaVinculos 1 | 2 | 4"
   ]
  },
  {
   "cell_type": "code",
   "execution_count": 10,
   "metadata": {},
   "outputs": [
    {
     "name": "stdout",
     "output_type": "stream",
     "text": [
      "expulsadxs y mantienen vínculo (% sobre expulsadxs): 34 (54.84)\n",
      "expulsadxs y mantienen vínculo (% total): 34 (13.23)\n"
     ]
    }
   ],
   "source": [
    "vinculo = data['crianzaVinculos'].apply(lambda x: len(set([1,2,4]) & set(x)) > 0)\n",
    "print('expulsadxs y mantienen vínculo (% sobre expulsadxs): {} ({:.2f})'.format(\n",
    "    (expulsion & vinculo).sum(), (expulsion & vinculo).sum()/expulsion.sum()*100))\n",
    "print('expulsadxs y mantienen vínculo (% total): {} ({:.2f})'.format(\n",
    "    (expulsion & vinculo).sum(), (expulsion & vinculo).sum()/len(data)*100))"
   ]
  },
  {
   "attachments": {},
   "cell_type": "markdown",
   "metadata": {},
   "source": [
    "#### 6. % de personas mayores de 25 años ( 18 años al momento de la aprobación de la ley ) que actualmente están en búsqueda laboral\n",
    "edad >= 25  \n",
    "ingresosBusca == si"
   ]
  },
  {
   "cell_type": "code",
   "execution_count": 11,
   "metadata": {
    "scrolled": true
   },
   "outputs": [
    {
     "name": "stdout",
     "output_type": "stream",
     "text": [
      "mayores 25: 180 (0.70%)\n",
      "mayor 25 y buscando trabajo (% sobre mayores 25): 106 (58.89%)\n",
      "mayor 25 y buscando trabajo (% sobre total): 106 (41.25%)\n"
     ]
    }
   ],
   "source": [
    "mas25 = data['edad'] > 25\n",
    "busqueda = data['ingresosBusca'] == 'si'\n",
    "print('mayores 25: {} ({:.2f}%)'.format(\n",
    "    mas25.sum(), mas25.sum()/len(data)))\n",
    "print('mayor 25 y buscando trabajo (% sobre mayores 25): {} ({:.2f}%)'.format(\n",
    "    (mas25 & busqueda).sum(), (mas25 & busqueda).sum()/mas25.sum()*100))\n",
    "print('mayor 25 y buscando trabajo (% sobre total): {} ({:.2f}%)'.format(\n",
    "    (mas25 & busqueda).sum(), (mas25 & busqueda).sum()/len(data)*100))"
   ]
  },
  {
   "cell_type": "markdown",
   "metadata": {},
   "source": [
    "#### 7. de personas mayores de 40 años (inclusive) que perdieron algún trabjao por su identidad de género\n",
    "edad >= 40  \n",
    "ocupacionPerdio == si"
   ]
  },
  {
   "cell_type": "code",
   "execution_count": 12,
   "metadata": {},
   "outputs": [
    {
     "name": "stdout",
     "output_type": "stream",
     "text": [
      "mayores 40: 76 (0.30%)\n",
      "mayor 40 y perdió trabajo (% sobre mayores 40): 33 (43.42%)\n",
      "mayor 40 y perdió trabajo (% sobre total): 33 (12.84%)\n"
     ]
    }
   ],
   "source": [
    "mas40 = data['edad'] >= 40\n",
    "perdida = data['ocupacionPerdio'] == 'si'\n",
    "print('mayores 40: {} ({:.2f}%)'.format(\n",
    "    mas40.sum(), mas40.sum()/len(data)))\n",
    "print('mayor 40 y perdió trabajo (% sobre mayores 40): {} ({:.2f}%)'.format(\n",
    "    (mas40 & perdida).sum(), (mas40 & perdida).sum()/mas40.sum()*100))\n",
    "print('mayor 40 y perdió trabajo (% sobre total): {} ({:.2f}%)'.format(\n",
    "    (mas40 & perdida).sum(), (mas40 & perdida).sum()/len(data)*100))"
   ]
  },
  {
   "cell_type": "markdown",
   "metadata": {},
   "source": [
    "#### 8. # de personas mayores de 25 años y menor de 39 inclusive que perdieron algún trabjao por su identidad de génerp\n",
    "40 > edad >= 25  \n",
    "ocupacionPerdio == si"
   ]
  },
  {
   "cell_type": "code",
   "execution_count": 13,
   "metadata": {},
   "outputs": [
    {
     "name": "stdout",
     "output_type": "stream",
     "text": [
      "entre 25 y 40: 115 (0.45%)\n",
      "entre 25 y 40 que perdió trabajo (% sobre de entre 25 y 40): 49 (42.61%)\n",
      "entre 25 y 40 que perdió trabajo (% sobre total): 49 (19.07%)\n"
     ]
    }
   ],
   "source": [
    "mas25 = data['edad'].isin(range(25,40))\n",
    "print('entre 25 y 40: {} ({:.2f}%)'.format(\n",
    "    mas25.sum(), mas25.sum()/len(data)))\n",
    "print('entre 25 y 40 que perdió trabajo (% sobre de entre 25 y 40): {} ({:.2f}%)'.format(\n",
    "    (mas25 & perdida).sum(), (mas25 & perdida).sum()/mas25.sum()*100))\n",
    "print('entre 25 y 40 que perdió trabajo (% sobre total): {} ({:.2f}%)'.format(\n",
    "    (mas25 & perdida).sum(), (mas25 & perdida).sum()/len(data)*100))"
   ]
  },
  {
   "cell_type": "markdown",
   "metadata": {},
   "source": [
    "#### 9. # de personas mayores de 16 años y menores de 24 inclusive que perdieron algún trabjao por su identidad de génerp\n",
    "25 > edad >= 16  \n",
    "ocupacionPerdio == si"
   ]
  },
  {
   "cell_type": "code",
   "execution_count": 14,
   "metadata": {},
   "outputs": [
    {
     "name": "stdout",
     "output_type": "stream",
     "text": [
      "entre 16 y 25: 66 (0.26%)\n",
      "entre 16 y 25 que perdió trabajo (% sobre de entre 25 y 40): 16 (24.24%)\n",
      "entre 16 y 25 que perdió trabajo (% sobre total): 16 (6.23%)\n"
     ]
    }
   ],
   "source": [
    "mas16 = data['edad'].isin(range(16,25))\n",
    "print('entre 16 y 25: {} ({:.2f}%)'.format(\n",
    "    mas16.sum(), mas16.sum()/len(data)))\n",
    "print('entre 16 y 25 que perdió trabajo (% sobre de entre 25 y 40): {} ({:.2f}%)'.format(\n",
    "    (mas16 & perdida).sum(), (mas16 & perdida).sum()/mas16.sum()*100))\n",
    "print('entre 16 y 25 que perdió trabajo (% sobre total): {} ({:.2f}%)'.format(\n",
    "    (mas16 & perdida).sum(), (mas16 & perdida).sum()/len(data)*100))"
   ]
  },
  {
   "attachments": {},
   "cell_type": "markdown",
   "metadata": {},
   "source": [
    "#### 10. # de personas que indican haber realizado algún curso de capacitación laboral y que dicen que no les sirvió para conseguir un empleo\n",
    "politicasConoce == si  \n",
    "cursoRealizo == si  \n",
    "cursoSirvio == no"
   ]
  },
  {
   "cell_type": "code",
   "execution_count": 15,
   "metadata": {},
   "outputs": [
    {
     "name": "stdout",
     "output_type": "stream",
     "text": [
      "conoce políticas y realizó cursos: 43 (16.73%)\n",
      "no sirvió curso (% sobre conoce y realizó): 22 (51.16%)\n"
     ]
    }
   ],
   "source": [
    "conoce = data['politicasConoce'] == 'si'\n",
    "realizo = data['cursoRealizo'] == 'si'\n",
    "no_sirvio = data['cursoSirvio'] == 'no'\n",
    "print('conoce políticas y realizó cursos: {} ({:.2f}%)'.format(\n",
    "    (conoce & realizo).sum(), (conoce & realizo).sum()/len(data)*100))\n",
    "print('no sirvió curso (% sobre conoce y realizó): {} ({:.2f}%)'.format(\n",
    "    no_sirvio.sum(), no_sirvio.sum()/(conoce & realizo).sum()*100))"
   ]
  },
  {
   "attachments": {},
   "cell_type": "markdown",
   "metadata": {},
   "source": [
    "#### 11. segun lugar de atención de salud que tipo de dificultades tuvieron\n",
    "5.3\taccesoDificultades, múltiple\n",
    "5.1 consultaEspacios, múltiple"
   ]
  },
  {
   "cell_type": "code",
   "execution_count": null,
   "metadata": {
    "collapsed": true
   },
   "outputs": [],
   "source": []
  },
  {
   "attachments": {},
   "cell_type": "markdown",
   "metadata": {},
   "source": [
    "#### 12. salud preventiva. % de personas sobre el total\n",
    "5.4 saludConsultas.4 | 5 | 6 | 10 | 11"
   ]
  },
  {
   "cell_type": "code",
   "execution_count": 16,
   "metadata": {},
   "outputs": [
    {
     "name": "stdout",
     "output_type": "stream",
     "text": [
      "Salud preventiva: 235 encuestadxs (91.44)\n"
     ]
    }
   ],
   "source": [
    "prevencion = data.loc[:,\n",
    "    ['saludConsultas.4', 'saludConsultas.5', 'saludConsultas.6', 'saludConsultas.10', 'saludConsultas.11']\n",
    "].apply(lambda x: (x == 'si').any(), axis=1)\n",
    "print('Salud preventiva: {} encuestadxs ({:.2f})'.format(\n",
    "    prevencion.sum(), prevencion.sum()/len(data)*100))"
   ]
  },
  {
   "cell_type": "markdown",
   "metadata": {},
   "source": [
    "#### 13. % masculinidades mayores de 30 años que se hicieron examenes genitomamarios\n",
    "edad >= 30  \n",
    "saludConsultas.4"
   ]
  },
  {
   "cell_type": "code",
   "execution_count": 17,
   "metadata": {},
   "outputs": [
    {
     "name": "stdout",
     "output_type": "stream",
     "text": [
      "Masculinidades mayores de 30 años: 22 encuestadxs (8.560311%)\n",
      "Exámenes genitomamarios sobre masculinidades mayores de 30: 68.18%\n"
     ]
    }
   ],
   "source": [
    "mas30_m = masculinidad & (data['edad'] >= 30)\n",
    "genitom = data['saludConsultas.4'] == 'si'\n",
    "print('Masculinidades mayores de 30 años: {} encuestadxs ({:2f}%)'.format(\n",
    "    mas30_m.sum(), mas30_m.sum()/len(data)*100))\n",
    "print('Exámenes genitomamarios sobre masculinidades mayores de 30: {:.2f}%'.format(\n",
    "    (mas30_m & genitom).sum()/mas30_m.sum()*100))"
   ]
  },
  {
   "cell_type": "markdown",
   "metadata": {},
   "source": [
    "#### 14. % femeneidades mayores de 30 años que se hicieron examenes de prostata\n",
    "saludConsultas.5"
   ]
  },
  {
   "cell_type": "code",
   "execution_count": 18,
   "metadata": {},
   "outputs": [
    {
     "name": "stdout",
     "output_type": "stream",
     "text": [
      "Femenidades mayores de 30 años: 81 encuestadxs (31.517510%)\n",
      "Exámenes de próstata sobre femenidades mayores de 30: 9.88%\n"
     ]
    }
   ],
   "source": [
    "mas30_f = femenidad & (data['edad'] >= 30)\n",
    "prostata = data['saludConsultas.5'] == 'si'\n",
    "print('Femenidades mayores de 30 años: {} encuestadxs ({:2f}%)'.format(\n",
    "    mas30_f.sum(), mas30_f.sum()/len(data)*100))\n",
    "print('Exámenes de próstata sobre femenidades mayores de 30: {:.2f}%'.format(\n",
    "    (mas30_f & prostata).sum()/mas30_f.sum()*100))"
   ]
  },
  {
   "attachments": {},
   "cell_type": "markdown",
   "metadata": {},
   "source": [
    "#### 15. % que se realizó intervenciones en hospitales públicos antes y despues de la ley\n",
    "intervenciones.intervencionLugar == 3 | intervencionesOtras.intervencionOtraLugar == 3  \n",
    "intervenciones.intervencionAno, intervencionesOtras.intervencionOtraAno (2012)  \n",
    "\n",
    "Se puede entender como porcentaje de encuestades que se realizó al menos una intervención en un hospital público, desagregado por año de realización (antes de 2012, después de 2012, y sin especificar el año).  \n",
    "Como las personas podrían cambiar cuánto intervienen sus cuerpos en función del año, me parece mejor informar porcentaje de intervenciones (sobre total de intervenciones antes y después de 2012) que se realizaron en un hospital público.  \n",
    "Primero, divido el dataset en dos (en ambos casos ignoro las intervenciones sin fecha de realización): por un lado, descarto las intervenciones realizadas en 2012 o después (pre2012); por otro lado descarto las intervenciones realizadas antes de 2012 (post2012).  \n",
    "Luego, para cada dataset, calculo porcentaje de encuestadxs que realizaron intervenciones en hospital público, sobre el total de encuestadxs que realizaron algún tipo de intervención."
   ]
  },
  {
   "cell_type": "code",
   "execution_count": 43,
   "metadata": {},
   "outputs": [
    {
     "name": "stdout",
     "output_type": "stream",
     "text": [
      "Encuestades con intervenciones pre 2012: 62 (24.12%)\n",
      "Encuestades con intervenciones post 2012: 106 (41.25%)\n",
      "Encuestades con intervenciones en hospital público pre 2012 (% sobre encuestades con intervenciones pre 2012):     19 (30.65%)\n",
      "Encuestades con intervenciones en hospital público post 2012 (% sobre encuestades con intervenciones post 2012):     34 (32.08%)\n"
     ]
    }
   ],
   "source": [
    "def binarizar(valor, umbral, cat_menor, cat_mayor):\n",
    "    def valor2cat(elemento):\n",
    "        try:\n",
    "            elemento = int(elemento)\n",
    "            if elemento != 99:\n",
    "                elemento = cat_menor if elemento < umbral else cat_mayor\n",
    "        except:\n",
    "            pass\n",
    "        return elemento\n",
    "\n",
    "    if isinstance(valor, list):\n",
    "        valor_new = []\n",
    "        for elemento in valor:\n",
    "            valor_new.append(valor2cat(elemento))\n",
    "    else:\n",
    "        valor_new = valor2cat(valor)\n",
    "    return valor_new\n",
    "\n",
    "data['intervenciones.intervencionAno'] = data['intervenciones.intervencionAno'].apply(\n",
    "    lambda x: binarizar(x, 2012, 'pre2012', 'post2012')\n",
    ")\n",
    "\n",
    "data_pre = data.copy()\n",
    "data_post = data.copy()\n",
    "for columna in ['intervenciones.intervencion' + sufijo for sufijo in ['', 'Realizacion', 'Lugar', 'Ano']]:\n",
    "    data_pre[columna] = data_pre.apply(\n",
    "        lambda x: where(x['intervenciones.intervencionAno'], x[columna], 'pre2012'), axis=1\n",
    "    )\n",
    "    data_post[columna] = data_post.apply(\n",
    "        lambda x: where(x['intervenciones.intervencionAno'], x[columna], 'post2012'), axis=1\n",
    "    )\n",
    "\n",
    "intervencion_pre = data_pre['intervenciones.intervencionLugar'].apply(lambda x: len(x) > 0 if isinstance(x, list) else False)\n",
    "intervencion_post = data_post['intervenciones.intervencionLugar'].apply(lambda x: len(x) > 0 if isinstance(x, list) else False)\n",
    "publico_pre = data_pre.loc[intervencion_pre, 'intervenciones.intervencionLugar'].apply(lambda x: 1 in x)\n",
    "publico_post = data_post.loc[intervencion_post, 'intervenciones.intervencionLugar'].apply(lambda x: 1 in x)\n",
    "\n",
    "print('Encuestades con intervenciones pre 2012: {} ({:.2f}%)'.format(\n",
    "    intervencion_pre.sum(), intervencion_pre.sum()/len(data)*100)\n",
    ")\n",
    "print('Encuestades con intervenciones post 2012: {} ({:.2f}%)'.format(\n",
    "    intervencion_post.sum(), intervencion_post.sum()/len(data)*100)\n",
    ")\n",
    "\n",
    "print(\n",
    "    'Encuestades con intervenciones en hospital público pre 2012 (% sobre encuestades con intervenciones pre 2012): \\\n",
    "    {} ({:.2f}%)'.format(publico_pre.sum(), publico_pre.sum()/intervencion_pre.sum()*100)\n",
    ")\n",
    "print(\n",
    "    'Encuestades con intervenciones en hospital público post 2012 (% sobre encuestades con intervenciones post 2012): \\\n",
    "    {} ({:.2f}%)'.format(publico_post.sum(), publico_post.sum()/intervencion_post.sum()*100)\n",
    ")"
   ]
  },
  {
   "attachments": {},
   "cell_type": "markdown",
   "metadata": {},
   "source": [
    "#### 16. # de personas que se hicieron intervenciones en domicilio particulares posterior a la ley (2012)\n",
    "intervenciones.intervencionLugar == 2"
   ]
  },
  {
   "cell_type": "code",
   "execution_count": 44,
   "metadata": {},
   "outputs": [
    {
     "name": "stdout",
     "output_type": "stream",
     "text": [
      "Encuestades con intervenciones domiciliarias post 2012 (% sobre intervenciones post 2012): 11 (10.38%)\n"
     ]
    }
   ],
   "source": [
    "domicilio_post = data_post.loc[intervencion_post, 'intervenciones.intervencionLugar'].apply(lambda x: 2 in x)\n",
    "print(\n",
    "    'Encuestades con intervenciones domiciliarias post 2012 (% sobre intervenciones post 2012): ' +\n",
    "    '{} ({:.2f}%)'.format(domicilio_post.sum(), domicilio_post.sum()/intervencion_post.sum()*100)\n",
    ")"
   ]
  },
  {
   "cell_type": "markdown",
   "metadata": {},
   "source": [
    "#### 17. % femeneidades que se inyectaron siliconas en domiclio particilar posterior al 2012\n",
    "intervenciones.intervencion == 1"
   ]
  },
  {
   "cell_type": "code",
   "execution_count": 56,
   "metadata": {},
   "outputs": [
    {
     "name": "stdout",
     "output_type": "stream",
     "text": [
      "Encuestades con inyección de siliconas en domicilio post 2012 (% sobre total femenidades): 6 (5.22%)\n"
     ]
    }
   ],
   "source": [
    "siliconas_post = data_post.loc[intervencion_post, 'intervenciones.intervencion'].apply(lambda x: 1 in x)\n",
    "print(\n",
    "    'Encuestades con inyección de siliconas en domicilio post 2012 (% sobre total femenidades): ' +\n",
    "    '{} ({:.2f}%)'.format(\n",
    "        (siliconas_post & domicilio_post & femenidad).sum(),\n",
    "        (siliconas_post & domicilio_post & femenidad).sum() / femenidad.sum() * 100\n",
    "    )\n",
    ")"
   ]
  },
  {
   "cell_type": "markdown",
   "metadata": {},
   "source": [
    "#### 18-19. % de femeneidades que se inyectaron siliconas y SALIERON DE SUS CASAS  antes/después de los 18 años\n",
    "Interpreto que se busca comparar el porcentaje de femenidades con inyección de siliconas según hayan salido de sus casas (i) antes, o (ii) después de los 18 años."
   ]
  },
  {
   "cell_type": "code",
   "execution_count": 73,
   "metadata": {},
   "outputs": [
    {
     "name": "stdout",
     "output_type": "stream",
     "text": [
      "Femenidades que salieron de sus casas antes de los 18 (% sobre total femenidades): 45 (39.13%)\n",
      "Femenidades que salieron de sus casas después de los 18 (% sobre total femenidades): 28 (24.35%)\n",
      "Inyección de siliconas (% sobre femenidades que salieron antes de los 18): 29 (64.44%)\n",
      "Inyección de siliconas (% sobre femenidades que salieron después de los 18): 11 (39.29%)\n"
     ]
    }
   ],
   "source": [
    "siliconas = data.apply(\n",
    "    lambda x: 1 in where(x['intervenciones.intervencionRealizacion'], x['intervenciones.intervencion'], 'si'),\n",
    "    axis=1\n",
    ")\n",
    "emancipacion = data['emanciparEdad'] != 'No corresponde'\n",
    "emancipacion_pre18 = data['emanciparEdad'].isin([0,7,13])\n",
    "emancipacion_post18 = data['emanciparEdad'].isin([18,26,35])\n",
    "print(\n",
    "    'Femenidades que salieron de sus casas antes de los 18 (% sobre total femenidades): ' +\n",
    "    '{} ({:.2f}%)'.format(\n",
    "        (femenidad & emancipacion_pre18).sum(),\n",
    "        (femenidad & emancipacion_pre18).sum()/femenidad.sum()*100\n",
    "    )\n",
    ")\n",
    "print(\n",
    "    'Femenidades que salieron de sus casas después de los 18 (% sobre total femenidades): ' +\n",
    "    '{} ({:.2f}%)'.format(\n",
    "        (femenidad & emancipacion_post18).sum(),\n",
    "        (femenidad & emancipacion_post18).sum()/femenidad.sum()*100\n",
    "    )\n",
    ")\n",
    "\n",
    "print(\n",
    "    'Inyección de siliconas (% sobre femenidades que salieron antes de los 18): ' +\n",
    "    '{} ({:.2f}%)'.format(\n",
    "        (siliconas & emancipacion_pre18 & femenidad).sum(),\n",
    "        (siliconas & emancipacion_pre18 & femenidad).sum()/(emancipacion_pre18 & femenidad).sum()*100\n",
    "    )\n",
    ")\n",
    "print(\n",
    "    'Inyección de siliconas (% sobre femenidades que salieron después de los 18): ' +\n",
    "    '{} ({:.2f}%)'.format(\n",
    "        (siliconas & emancipacion_post18 & femenidad).sum(),\n",
    "        (siliconas & emancipacion_post18 & femenidad).sum()/(emancipacion_post18 & femenidad).sum()*100\n",
    "    )\n",
    ")"
   ]
  },
  {
   "attachments": {},
   "cell_type": "markdown",
   "metadata": {},
   "source": [
    "#### 20. % de femeneidades/travestis que fueron expulsadas de su entorno de origen y ejercen prostitucion/trabajo sexual\n",
    "femenidad | identidad == 1  \n",
    "emanciparMotivos in [1, 2, 5, 6]  \n",
    "remuneradas.remuneradaNombre == 15 | 51"
   ]
  },
  {
   "cell_type": "code",
   "execution_count": 104,
   "metadata": {},
   "outputs": [
    {
     "name": "stdout",
     "output_type": "stream",
     "text": [
      "Femenidades/travestis expulsadas de su entorno de origen (% sobre total femenidades/travestis): 42 (31.34%)\n",
      "Ejercen prostitución (% sobre total femenidades/travestis expulsadas): 23 (54.76%)\n",
      "Ejercen prostitución (% sobre total femenidades/travestis -expulsadas o no): 53 (39.55%)\n"
     ]
    }
   ],
   "source": [
    "entorno_expulsivo = data['emanciparMotivos'].apply(lambda x: len(set([1,2,5,6]) & set(x)) > 0)\n",
    "travesti = data['identidad'] == 1\n",
    "prostitucion = data['remuneradas.remuneradaNombre'].apply(lambda x: len(set(x) & set([15, 51])) > 0)\n",
    "print(\n",
    "    'Femenidades/travestis expulsadas de su entorno de origen (% sobre total femenidades/travestis): ' +\n",
    "    '{} ({:.2f}%)'.format(\n",
    "        ((femenidad | travesti) & entorno_expulsivo).sum(),\n",
    "        ((femenidad | travesti) & entorno_expulsivo).sum()/(femenidad | travesti).sum()*100,\n",
    "    )\n",
    ")\n",
    "print(\n",
    "    'Ejercen prostitución (% sobre total femenidades/travestis expulsadas): ' +\n",
    "    '{} ({:.2f}%)'.format(\n",
    "        (prostitucion & (femenidad | travesti) & entorno_expulsivo).sum(),\n",
    "        (prostitucion & (femenidad | travesti) & entorno_expulsivo).sum()/((femenidad | travesti) & entorno_expulsivo).sum()*100,\n",
    "    )\n",
    ")\n",
    "print(\n",
    "    'Ejercen prostitución (% sobre total femenidades/travestis -expulsadas o no): ' +\n",
    "    '{} ({:.2f}%)'.format(\n",
    "        (prostitucion & (femenidad | travesti)).sum(),\n",
    "        (prostitucion & (femenidad | travesti)).sum()/((femenidad | travesti)).sum()*100,\n",
    "    )\n",
    ")"
   ]
  },
  {
   "cell_type": "markdown",
   "metadata": {},
   "source": [
    "#### 21. % femeneidades/travestis que ejercen prostitucion/trabajo sexual y se inyectaron siliconas"
   ]
  },
  {
   "cell_type": "code",
   "execution_count": 108,
   "metadata": {},
   "outputs": [
    {
     "name": "stdout",
     "output_type": "stream",
     "text": [
      "Femenidades/travestis que ejercen prostitución: 53\n",
      "Inyección siliconas (% sobre femenidades/travestis que ejercen prostitución): 32 (60.38%)\n",
      "Inyección siliconas (% sobre femenidades/travestis -ejerzan o no prostitución): 68 (50.75%)\n"
     ]
    }
   ],
   "source": [
    "print('Femenidades/travestis que ejercen prostitución: {}'.format((prostitucion & (femenidad | travesti)).sum()))\n",
    "print(\n",
    "    'Inyección siliconas (% sobre femenidades/travestis que ejercen prostitución): ' +\n",
    "    '{} ({:.2f}%)'.format(\n",
    "        (siliconas & prostitucion & (femenidad | travesti)).sum(),\n",
    "        (siliconas & prostitucion & (femenidad | travesti)).sum()/(prostitucion & (femenidad | travesti)).sum()*100\n",
    "    )\n",
    ")\n",
    "print(\n",
    "    'Inyección siliconas (% sobre femenidades/travestis -ejerzan o no prostitución): ' +\n",
    "    '{} ({:.2f}%)'.format(\n",
    "        (siliconas & (femenidad | travesti)).sum(),\n",
    "        (siliconas & (femenidad | travesti)).sum()/(femenidad | travesti).sum()*100\n",
    "    )\n",
    ")"
   ]
  }
 ],
 "metadata": {
  "kernelspec": {
   "display_name": "Python [default]",
   "language": "python",
   "name": "python3"
  },
  "language_info": {
   "codemirror_mode": {
    "name": "ipython",
    "version": 3
   },
   "file_extension": ".py",
   "mimetype": "text/x-python",
   "name": "python",
   "nbconvert_exporter": "python",
   "pygments_lexer": "ipython3",
   "version": "3.6.8"
  }
 },
 "nbformat": 4,
 "nbformat_minor": 2
}
